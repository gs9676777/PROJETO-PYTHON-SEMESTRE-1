{
 "cells": [
  {
   "cell_type": "code",
   "execution_count": 2,
   "metadata": {},
   "outputs": [
    {
     "name": "stdout",
     "output_type": "stream",
     "text": [
      "n tem triangulo\n"
     ]
    }
   ],
   "source": [
    "a = int (input (\"Lado a: \") )\n",
    "b = int (input (\"Lado b: \") )\n",
    "c = int (input (\"Lado c: \") )\n",
    "if (a < b + c) and (b < a + c) and (c < a + b) :\n",
    "    if (a == b) and (b == c): \n",
    "        print(\"triangulo equilatero\")\n",
    "    else:\n",
    "        if (a == b) or (a == c) or (b == c):\n",
    "            print(\"triangulo isosceles\")\n",
    "        else:\n",
    "            print(\"triangulo escaleno\")\n",
    "else:\n",
    "    print(\"n tem triangulo\")            "
   ]
  },
  {
   "cell_type": "code",
   "execution_count": 12,
   "metadata": {},
   "outputs": [],
   "source": [
    "cod = int (input (\"codigo de origem\") )\n",
    "\n",
    "if (cod == 1):\n",
    "    print (\"procedencia igual a sul\")\n",
    "elif (cod == 2):\n",
    "    print (\"procedencia igual norte\")\n",
    "elif (cod == 3):\n",
    "    print (\"procedencia igual leste\")\n",
    "elif (cod == 4):\n",
    "    print (\"procedencia igual oeste\")\n",
    "elif (cod == 5) or (cod == 6):\n",
    "    print (\"procedencia igual nordeste\")\n",
    "elif (cod >= 7) and (cod <= 9):\n",
    "    print (\"procedencia igual sudeste \")\n",
    "elif (cod >= 10) and (cod <= 20):\n",
    "    print (\"procedencia igual centro oeste \")\n",
    "elif (cod >= 25) and (cod <= 30):\n",
    "    print (\"procedencia igual nordeste \")\n",
    "else:\n",
    "    \"Importado\"\n",
    "\n",
    "\n"
   ]
  }
 ],
 "metadata": {
  "kernelspec": {
   "display_name": "base",
   "language": "python",
   "name": "python3"
  },
  "language_info": {
   "codemirror_mode": {
    "name": "ipython",
    "version": 3
   },
   "file_extension": ".py",
   "mimetype": "text/x-python",
   "name": "python",
   "nbconvert_exporter": "python",
   "pygments_lexer": "ipython3",
   "version": "3.9.13"
  }
 },
 "nbformat": 4,
 "nbformat_minor": 2
}
